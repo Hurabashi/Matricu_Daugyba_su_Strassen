{
  "nbformat": 4,
  "nbformat_minor": 0,
  "metadata": {
    "colab": {
      "name": "Matricu_daugyba.ipynb",
      "provenance": [],
      "collapsed_sections": [],
      "authorship_tag": "ABX9TyOv+P2/B6uqsAWnvWS7JfxR",
      "include_colab_link": true
    },
    "kernelspec": {
      "name": "python3",
      "display_name": "Python 3"
    }
  },
  "cells": [
    {
      "cell_type": "markdown",
      "metadata": {
        "id": "view-in-github",
        "colab_type": "text"
      },
      "source": [
        "<a href=\"https://colab.research.google.com/github/Hurabashi/Matricu_Daugyba_su_Strassen/blob/main/Matricu_daugyba.ipynb\" target=\"_parent\"><img src=\"https://colab.research.google.com/assets/colab-badge.svg\" alt=\"Open In Colab\"/></a>"
      ]
    },
    {
      "cell_type": "markdown",
      "metadata": {
        "id": "StniShGLlf1U"
      },
      "source": [
        "Šiame projekte lyginsime paprastą matricų sandaugos algoritmą ir matricų sandaugos Strassen algoritmą.\r\n",
        "\r\n",
        "Pirma pradėsime nuo paprastos matricų sandaugos."
      ]
    },
    {
      "cell_type": "code",
      "metadata": {
        "id": "f3F1Hvo9xs-U"
      },
      "source": [
        "def matricu_sandauga_paprasta(matrica_1,matrica_2):\r\n",
        "  '''\r\n",
        "  Iprastu ir neoptimizuotu budu sudauginame dvi matricas, veikia jeigu sutampa\r\n",
        "  pirmosios plotis ir antrosios aukstis/ilgis.\r\n",
        "  '''\r\n",
        "  suma = 0\r\n",
        "  galutine_matrica = []\r\n",
        "  for eilute in matrica_1:\r\n",
        "    ilgis_eil = len(eilute)\r\n",
        "    ilgis_stulp = len(matrica_2[0])\r\n",
        "    galutines_matricos_eilute = []\r\n",
        "    for i in range(ilgis_stulp):\r\n",
        "      for j in range(ilgis_eil):\r\n",
        "        suma = suma + eilute[j] * matrica_2[j][i]\r\n",
        "      galutines_matricos_eilute.append(suma)\r\n",
        "      suma = 0 \r\n",
        "    galutine_matrica.append(galutines_matricos_eilute)\r\n",
        "  return galutine_matrica\r\n",
        "  \r\n",
        "  "
      ],
      "execution_count": null,
      "outputs": []
    },
    {
      "cell_type": "markdown",
      "metadata": {
        "id": "E3fmgJDSVXXN"
      },
      "source": [
        "Paruosiame matricas tinkamas Strassen algoritmui, jeigu jos nebūtų kvadratinės ir/arba 2^n. Mes pridedame nulių, kad jas tokiomis paversti.\r\n",
        "(Pastaba: užduoty naudojamos tik kvadratinės matricos, čia veiks su visomis daugintinomis matricomis)"
      ]
    },
    {
      "cell_type": "code",
      "metadata": {
        "id": "5f8WJGeQhseR"
      },
      "source": [
        "def matricu_kvadratinimas(matrica_1, matrica_2):\r\n",
        "  '''\r\n",
        "  Is abieju matricu randame didziausia dimensija, tada randame tai dimensijai\r\n",
        "  maziausia 2^n, ir tada abieju matricu dimensijas ispleciame iki jos, pridedant\r\n",
        "  nulius.\r\n",
        "  '''\r\n",
        "  #ieskome kokia didziausia dimensija\r\n",
        "  didziausia_dimensija = max(len(matrica_1[0]),len(matrica_1),\r\n",
        "                    len(matrica_2[0]),len(matrica_2))\r\n",
        "  #padarome didziausia dimensija i 2^n \r\n",
        "  while (didziausia_dimensija & (didziausia_dimensija - 1)) != 0:\r\n",
        "         didziausia_dimensija = didziausia_dimensija + 1\r\n",
        "\r\n",
        "  #paplatiname matricas iki didziausios dimensijos\r\n",
        "  #prailginame eilutes nuliais\r\n",
        " \r\n",
        "  for i in range(didziausia_dimensija - len(matrica_1[0])):\r\n",
        "    matrica_1[0].append(0)\r\n",
        "\r\n",
        "  for i in range(didziausia_dimensija - len(matrica_2[0])):\r\n",
        "    matrica_2[0].append(0)\r\n",
        "  #sukuriam nuliu eilutes\r\n",
        "  nuliai = []\r\n",
        "  for i in range(didziausia_dimensija):\r\n",
        "    nuliai.append(0)\r\n",
        "  \r\n",
        "  #prideda nuliu eilutes\r\n",
        "  while len(matrica_1) != didziausia_dimensija:\r\n",
        "    matrica_1.append(nuliai)\r\n",
        "  while len(matrica_2) != didziausia_dimensija:\r\n",
        "    matrica_2.append(nuliai)\r\n",
        "\r\n",
        "\r\n",
        " "
      ],
      "execution_count": null,
      "outputs": []
    },
    {
      "cell_type": "markdown",
      "metadata": {
        "id": "vj4IdhY1mOIC"
      },
      "source": [
        "Toliau mes apsibrėžiame pagalbines funkcijas: matricų sudėtį, atimtį, išardymą į 4 mažesnias matricas, bei sujungimo atgal į vieną. Aišku tai reikalinga, nes mes nesinaudojame išorinėmis bibliotekomis kaip numpy, kurios jau turi apibrėžtą dalį operacijų bei palengvina kitas, bet su jomis algoritmų sudėtingumo lyginimas taptų gan beprasmis, nes jos parašytos kitomis programavimo kalbomis ir tai nebūtų savarankiškas darbas."
      ]
    },
    {
      "cell_type": "code",
      "metadata": {
        "id": "QPtyRitQo8af"
      },
      "source": [
        "def sudetis(x, y):\r\n",
        "  #tikrinama ar musu atveju tai matrica jei taip atlieka matricu sudetis\r\n",
        "  if isinstance(x, list):\r\n",
        "    c = []\r\n",
        "    plotis = len(x[0])\r\n",
        "    ilgis = len(x)\r\n",
        "    for i in range(ilgis):\r\n",
        "      c_eil = []\r\n",
        "      for j in range(0, plotis): \r\n",
        "        c_eil.append(x[i][j] + y[i][j])\r\n",
        "      c.append(c_eil)\r\n",
        "    return c\r\n",
        "  else:\r\n",
        "    return x + y\r\n",
        "\r\n",
        "def atimtis(x, y):\r\n",
        "  #tikrinama ar musu atveju tai matrica jei taip tai atliekama matricu atimtis\r\n",
        "  if isinstance(x, list):\r\n",
        "    c = []\r\n",
        "    plotis = len(x[0])\r\n",
        "    ilgis = len(x)\r\n",
        "    for i in range(ilgis):\r\n",
        "      c_eil = []\r\n",
        "      for j in range(0, plotis): \r\n",
        "        c_eil.append(x[i][j] - y[i][j])\r\n",
        "      c.append(c_eil)\r\n",
        "    return c\r\n",
        "  else:\r\n",
        "    return x - y\r\n",
        "\r\n",
        "def matricos_padalinimas(matrica):\r\n",
        "  #padalinime matrica i 4 matricas\r\n",
        "  dimensija = len(matrica)\r\n",
        "  dimensija_galutine = int(dimensija/2)\r\n",
        "\r\n",
        "  mat_00 = []\r\n",
        "  for eil in matrica[0 : dimensija_galutine]:\r\n",
        "    mat_00.append(eil[0 : dimensija_galutine])\r\n",
        "    \r\n",
        "  mat_01 = []\r\n",
        "  for eil in matrica[0 : dimensija_galutine]:\r\n",
        "    mat_01.append(eil[dimensija_galutine : dimensija])\r\n",
        "    \r\n",
        "  mat_10 = []\r\n",
        "  for eil in matrica[dimensija_galutine : dimensija]:\r\n",
        "    mat_10.append(eil[0 : dimensija_galutine])\r\n",
        "    \r\n",
        "  mat_11 = []\r\n",
        "  for eil in matrica[dimensija_galutine : dimensija]:\r\n",
        "    mat_11.append(eil[dimensija_galutine : dimensija])\r\n",
        "  return mat_00, mat_01, mat_10, mat_11\r\n",
        "  \r\n",
        "def matricos_suvienijimas(mat_00, mat_01, mat_10, mat_11):\r\n",
        "  #sujungiame 4 matricas i viena\r\n",
        "  if isinstance(mat_00, list):\r\n",
        "    c = []\r\n",
        "    dimensija = len(mat_00)\r\n",
        "    for i in range(dimensija):\r\n",
        "      c.append(mat_00[i] + mat_01[i])   \r\n",
        "    for i in range(dimensija):\r\n",
        "      c.append(mat_10[i] + mat_11[i])\r\n",
        "  else:\r\n",
        "    c = [[mat_00, mat_01],\r\n",
        "        [mat_10, mat_11]]\r\n",
        "    \r\n",
        "  return c"
      ],
      "execution_count": null,
      "outputs": []
    },
    {
      "cell_type": "markdown",
      "metadata": {
        "id": "ufhn60ajxOvi"
      },
      "source": [
        "Pagaliau galime apsibrėžti Strassen rekursinį matricų daugybos algoritmą."
      ]
    },
    {
      "cell_type": "code",
      "metadata": {
        "id": "1ZYjRY6vW-T_"
      },
      "source": [
        "def matricu_sandauga_strassen(x, y):\r\n",
        "  '''\r\n",
        "  Dauginame matricas Strassen rekurisniu algoritmu\r\n",
        "  '''\r\n",
        "\r\n",
        "  #sukuriame isejimo salyga pasiekus skaliarus\r\n",
        "  if len(x) == 1:\r\n",
        "    return x[0][0] * y[0][0]\r\n",
        "\r\n",
        "  #padaliname matricas i savus kvadratus\r\n",
        "  x_00, x_01, x_10, x_11 = matricos_padalinimas(x)\r\n",
        "  y_00, y_01, y_10, y_11 = matricos_padalinimas(y)\r\n",
        "\r\n",
        "  #sukuriame konstantas reikalingas Strassen algoritmui\r\n",
        "  m_1 = matricu_sandauga_strassen(atimtis(x_01, x_11), sudetis(y_10, y_11))\r\n",
        "  m_2 = matricu_sandauga_strassen(sudetis(x_00, x_11), sudetis(y_00, y_11))\r\n",
        "  m_3 = matricu_sandauga_strassen(atimtis(x_00, x_10), sudetis(y_00, y_01))\r\n",
        "  m_4 = matricu_sandauga_strassen(sudetis(x_00, x_01), y_11)\r\n",
        "  m_5 = matricu_sandauga_strassen(x_00, atimtis(y_01, y_11))\r\n",
        "  m_6 = matricu_sandauga_strassen(x_11, atimtis(y_10, y_00))\r\n",
        "  m_7 = matricu_sandauga_strassen(sudetis(x_10, x_11), y_00)\r\n",
        "\r\n",
        "  c_00 = sudetis(sudetis(m_1, m_2), atimtis(m_6, m_4))\r\n",
        "  c_01 = sudetis(m_4, m_5)\r\n",
        "  c_10 = sudetis(m_6, m_7)\r\n",
        "  c_11 = sudetis(atimtis(m_2, m_3), atimtis(m_5, m_7))\r\n",
        "\r\n",
        "  #sujungiame i didesne matrica\r\n",
        "  c = matricos_suvienijimas(c_00, c_01, c_10, c_11)\r\n",
        "  return c"
      ],
      "execution_count": null,
      "outputs": []
    },
    {
      "cell_type": "markdown",
      "metadata": {
        "id": "MePAdf8i82HX"
      },
      "source": [
        "Dabar sukurkime galimybę nuskaityti matricas iš failų ir atlikti daugybą. "
      ]
    },
    {
      "cell_type": "code",
      "metadata": {
        "id": "OouI4g3z9N3r",
        "colab": {
          "resources": {
            "http://localhost:8080/nbextensions/google.colab/files.js": {
              "data": "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",
              "ok": true,
              "headers": [
                [
                  "content-type",
                  "application/javascript"
                ]
              ],
              "status": 200,
              "status_text": ""
            }
          },
          "base_uri": "https://localhost:8080/",
          "height": 37
        },
        "outputId": "60d3fe9f-ddc9-446e-df66-8df1143e8d85"
      },
      "source": [
        "from google.colab import files\r\n",
        "\r\n",
        "uploaded = files.upload()\r\n",
        "\r\n",
        "for fn in uploaded.keys():\r\n",
        "  print('User uploaded file \"{name}\" with length {length} bytes'.format(\r\n",
        "      name=fn, length=len(uploaded[fn])))"
      ],
      "execution_count": null,
      "outputs": [
        {
          "output_type": "display_data",
          "data": {
            "text/html": [
              "\n",
              "     <input type=\"file\" id=\"files-ed3750f7-314b-4953-a413-145410d941c0\" name=\"files[]\" multiple disabled\n",
              "        style=\"border:none\" />\n",
              "     <output id=\"result-ed3750f7-314b-4953-a413-145410d941c0\">\n",
              "      Upload widget is only available when the cell has been executed in the\n",
              "      current browser session. Please rerun this cell to enable.\n",
              "      </output>\n",
              "      <script src=\"/nbextensions/google.colab/files.js\"></script> "
            ],
            "text/plain": [
              "<IPython.core.display.HTML object>"
            ]
          },
          "metadata": {
            "tags": []
          }
        }
      ]
    },
    {
      "cell_type": "code",
      "metadata": {
        "colab": {
          "base_uri": "https://localhost:8080/"
        },
        "id": "sTV3ibvkCR0O",
        "outputId": "eda58a39-263a-4c7b-d566-033ec279fb51"
      },
      "source": [
        "failas = 'matricos.txt'\r\n",
        "with open(failas, \"r\") as failas:\r\n",
        "    FileasList = failas.readlines()\r\n",
        "\r\n",
        "matrica_did = []\r\n",
        "\r\n",
        "for i in range(len(FileasList)):\r\n",
        "  eilute = list(map(int, FileasList[i].split()))\r\n",
        "  matrica_did.append(eilute)\r\n",
        "  if eilute == []:\r\n",
        "    kitos_matricos_zyma = i\r\n",
        "  \r\n",
        "\r\n",
        "matrica_1 = matrica_did[0:kitos_matricos_zyma]\r\n",
        "matrica_2 = matrica_did[kitos_matricos_zyma+1:]\r\n",
        "\r\n",
        "print('Pasirinkite kokia daugyba norite atlikti Strassen ar paprasta su nuskaitytomis matricomis is failo matricos.txt')\r\n",
        "print('Jeigu Strassen, rasykite s simboli, jeigu paprasta - p simboli arba bet ka kita:')\r\n",
        "simbolis = input()\r\n",
        "\r\n",
        "if(simbolis == 's'):\r\n",
        "  matricu_kvadratinimas(matrica_1,matrica_2)\r\n",
        "  galutine_matrica = matricu_sandauga_strassen(matrica_1, matrica_2)\r\n",
        "else:\r\n",
        "  galutine_matrica = matricu_sandauga_paprasta(matrica_1, matrica_2)\r\n",
        "\r\n",
        "print('Atsakymas:')\r\n",
        "for eilute in galutine_matrica:\r\n",
        "  print(eilute)"
      ],
      "execution_count": null,
      "outputs": [
        {
          "output_type": "stream",
          "text": [
            "Pasirinkite kokia daugyba norite atlikti Strassen ar paprasta su nuskaitytomis matricomis is failo matricos.txt\n",
            "Jeigu Strassen, rasykite s simboli, jeigu paprasta - p simboli arba bet ka kita:\n",
            "aha\n",
            "Atsakymas:\n",
            "[196, 162, 150, 157]\n",
            "[167, 136, 126, 133]\n",
            "[80, 66, 58, 59]\n",
            "[179, 151, 156, 154]\n"
          ],
          "name": "stdout"
        }
      ]
    },
    {
      "cell_type": "markdown",
      "metadata": {
        "id": "TJ91C9WduzEC"
      },
      "source": [
        "Toliau vykdome analizę"
      ]
    },
    {
      "cell_type": "code",
      "metadata": {
        "id": "m3PqBACNvUyP"
      },
      "source": [
        "def matricos_generavimas(skaicius, n):\r\n",
        "  c = []\r\n",
        "  eilute = []\r\n",
        "  for sk in range(n):\r\n",
        "    eilute.append(skaicius)\r\n",
        "  for sk in range(n):\r\n",
        "    c.append(eilute)\r\n",
        "  \r\n",
        "  return c\r\n"
      ],
      "execution_count": null,
      "outputs": []
    },
    {
      "cell_type": "code",
      "metadata": {
        "id": "bRB2Omc98CmQ"
      },
      "source": [
        "import time\r\n",
        "def testavimas(skaicius, n):\r\n",
        "\r\n",
        "  matrica_1 = matricos_generavimas(skaicius, n)\r\n",
        "  matrica_2 = matricos_generavimas(skaicius, n)\r\n",
        "  print('sugeneruota')\r\n",
        "  matricu_kvadratinimas(matrica_1,matrica_2)\r\n",
        "  print('sukvadratinta')\r\n",
        "  tic = time.perf_counter()\r\n",
        "  matricu_sandauga_strassen(matrica_1, matrica_2)\r\n",
        "  toc = time.perf_counter()\r\n",
        "  laikas_strassen = toc - tic\r\n",
        "  print('strassen')\r\n",
        "  tic = time.perf_counter()\r\n",
        "  matricu_sandauga_paprasta(matrica_1, matrica_2)\r\n",
        "  toc = time.perf_counter()\r\n",
        "  laikas_paprasta = toc - tic\r\n",
        "  print('paprasta')\r\n",
        "  return laikas_paprasta, laikas_strassen\r\n"
      ],
      "execution_count": 66,
      "outputs": []
    },
    {
      "cell_type": "code",
      "metadata": {
        "colab": {
          "base_uri": "https://localhost:8080/"
        },
        "id": "mr6_7aUyGrNJ",
        "outputId": "5554dbfe-f206-4aeb-8c5e-4d5c371fe558"
      },
      "source": [
        "laiku_sarasas = []\r\n",
        "for n in range(2, 103, 2):\r\n",
        "  print(n)\r\n",
        "  pap, stras = testavimas(3, n)\r\n",
        "  laiku_sarasas.append([n, pap, stras])"
      ],
      "execution_count": 74,
      "outputs": [
        {
          "output_type": "stream",
          "text": [
            "2\n",
            "sugeneruota\n",
            "sukvadratinta\n",
            "strassen\n",
            "paprasta\n",
            "4\n",
            "sugeneruota\n",
            "sukvadratinta\n",
            "strassen\n",
            "paprasta\n",
            "6\n",
            "sugeneruota\n",
            "sukvadratinta\n",
            "strassen\n",
            "paprasta\n",
            "8\n",
            "sugeneruota\n",
            "sukvadratinta\n",
            "strassen\n",
            "paprasta\n",
            "10\n",
            "sugeneruota\n",
            "sukvadratinta\n",
            "strassen\n",
            "paprasta\n",
            "12\n",
            "sugeneruota\n",
            "sukvadratinta\n",
            "strassen\n",
            "paprasta\n",
            "14\n",
            "sugeneruota\n",
            "sukvadratinta\n",
            "strassen\n",
            "paprasta\n",
            "16\n",
            "sugeneruota\n",
            "sukvadratinta\n",
            "strassen\n",
            "paprasta\n",
            "18\n",
            "sugeneruota\n",
            "sukvadratinta\n",
            "strassen\n",
            "paprasta\n",
            "20\n",
            "sugeneruota\n",
            "sukvadratinta\n",
            "strassen\n",
            "paprasta\n",
            "22\n",
            "sugeneruota\n",
            "sukvadratinta\n",
            "strassen\n",
            "paprasta\n",
            "24\n",
            "sugeneruota\n",
            "sukvadratinta\n",
            "strassen\n",
            "paprasta\n",
            "26\n",
            "sugeneruota\n",
            "sukvadratinta\n",
            "strassen\n",
            "paprasta\n",
            "28\n",
            "sugeneruota\n",
            "sukvadratinta\n",
            "strassen\n",
            "paprasta\n",
            "30\n",
            "sugeneruota\n",
            "sukvadratinta\n",
            "strassen\n",
            "paprasta\n",
            "32\n",
            "sugeneruota\n",
            "sukvadratinta\n",
            "strassen\n",
            "paprasta\n",
            "34\n",
            "sugeneruota\n",
            "sukvadratinta\n",
            "strassen\n",
            "paprasta\n",
            "36\n",
            "sugeneruota\n",
            "sukvadratinta\n",
            "strassen\n",
            "paprasta\n",
            "38\n",
            "sugeneruota\n",
            "sukvadratinta\n",
            "strassen\n",
            "paprasta\n",
            "40\n",
            "sugeneruota\n",
            "sukvadratinta\n",
            "strassen\n",
            "paprasta\n",
            "42\n",
            "sugeneruota\n",
            "sukvadratinta\n",
            "strassen\n",
            "paprasta\n",
            "44\n",
            "sugeneruota\n",
            "sukvadratinta\n",
            "strassen\n",
            "paprasta\n",
            "46\n",
            "sugeneruota\n",
            "sukvadratinta\n",
            "strassen\n",
            "paprasta\n",
            "48\n",
            "sugeneruota\n",
            "sukvadratinta\n",
            "strassen\n",
            "paprasta\n",
            "50\n",
            "sugeneruota\n",
            "sukvadratinta\n",
            "strassen\n",
            "paprasta\n",
            "52\n",
            "sugeneruota\n",
            "sukvadratinta\n",
            "strassen\n",
            "paprasta\n",
            "54\n",
            "sugeneruota\n",
            "sukvadratinta\n",
            "strassen\n",
            "paprasta\n",
            "56\n",
            "sugeneruota\n",
            "sukvadratinta\n",
            "strassen\n",
            "paprasta\n",
            "58\n",
            "sugeneruota\n",
            "sukvadratinta\n",
            "strassen\n",
            "paprasta\n",
            "60\n",
            "sugeneruota\n",
            "sukvadratinta\n",
            "strassen\n",
            "paprasta\n",
            "62\n",
            "sugeneruota\n",
            "sukvadratinta\n",
            "strassen\n",
            "paprasta\n",
            "64\n",
            "sugeneruota\n",
            "sukvadratinta\n",
            "strassen\n",
            "paprasta\n",
            "66\n",
            "sugeneruota\n",
            "sukvadratinta\n",
            "strassen\n",
            "paprasta\n",
            "68\n",
            "sugeneruota\n",
            "sukvadratinta\n",
            "strassen\n",
            "paprasta\n",
            "70\n",
            "sugeneruota\n",
            "sukvadratinta\n",
            "strassen\n",
            "paprasta\n",
            "72\n",
            "sugeneruota\n",
            "sukvadratinta\n",
            "strassen\n",
            "paprasta\n",
            "74\n",
            "sugeneruota\n",
            "sukvadratinta\n",
            "strassen\n",
            "paprasta\n",
            "76\n",
            "sugeneruota\n",
            "sukvadratinta\n",
            "strassen\n",
            "paprasta\n",
            "78\n",
            "sugeneruota\n",
            "sukvadratinta\n",
            "strassen\n",
            "paprasta\n",
            "80\n",
            "sugeneruota\n",
            "sukvadratinta\n",
            "strassen\n",
            "paprasta\n",
            "82\n",
            "sugeneruota\n",
            "sukvadratinta\n",
            "strassen\n",
            "paprasta\n",
            "84\n",
            "sugeneruota\n",
            "sukvadratinta\n",
            "strassen\n",
            "paprasta\n",
            "86\n",
            "sugeneruota\n",
            "sukvadratinta\n",
            "strassen\n",
            "paprasta\n",
            "88\n",
            "sugeneruota\n",
            "sukvadratinta\n",
            "strassen\n",
            "paprasta\n",
            "90\n",
            "sugeneruota\n",
            "sukvadratinta\n",
            "strassen\n",
            "paprasta\n",
            "92\n",
            "sugeneruota\n",
            "sukvadratinta\n",
            "strassen\n",
            "paprasta\n",
            "94\n",
            "sugeneruota\n",
            "sukvadratinta\n",
            "strassen\n",
            "paprasta\n",
            "96\n",
            "sugeneruota\n",
            "sukvadratinta\n",
            "strassen\n",
            "paprasta\n",
            "98\n",
            "sugeneruota\n",
            "sukvadratinta\n",
            "strassen\n",
            "paprasta\n",
            "100\n",
            "sugeneruota\n",
            "sukvadratinta\n",
            "strassen\n",
            "paprasta\n",
            "102\n",
            "sugeneruota\n",
            "sukvadratinta\n",
            "strassen\n",
            "paprasta\n"
          ],
          "name": "stdout"
        }
      ]
    },
    {
      "cell_type": "code",
      "metadata": {
        "colab": {
          "base_uri": "https://localhost:8080/"
        },
        "id": "QYtk8NQA4zZT",
        "outputId": "b9ffd1c4-e824-4ffe-d5f9-0953b0fc7fe2"
      },
      "source": [
        "laiku_sarasas"
      ],
      "execution_count": 75,
      "outputs": [
        {
          "output_type": "execute_result",
          "data": {
            "text/plain": [
              "[[2, 8.596995030529797e-06, 0.0002112139991368167],\n",
              " [4, 2.133099769707769e-05, 0.00030579000303987414],\n",
              " [6, 0.00011588900088099763, 0.0029941690008854493],\n",
              " [8, 0.00011419100337661803, 0.002085418993374333],\n",
              " [10, 0.0004395420037326403, 0.0138440430018818],\n",
              " [12, 0.00043308400199748576, 0.009276440003304742],\n",
              " [14, 0.00042260299960616976, 0.009156015003100038],\n",
              " [16, 0.00043812300282297656, 0.009727234995807521],\n",
              " [18, 0.002941702005045954, 0.06500568699993892],\n",
              " [20, 0.0029241110023576766, 0.06412393199570943],\n",
              " [22, 0.003006304999871645, 0.06542392299888888],\n",
              " [24, 0.0029310880054254085, 0.06676999699993758],\n",
              " [26, 0.0029395140009000897, 0.0643270080036018],\n",
              " [28, 0.0029927499999757856, 0.06486895800480852],\n",
              " [30, 0.0030678629991598427, 0.06864517400390469],\n",
              " [32, 0.002995140996063128, 0.06951039400155423],\n",
              " [34, 0.022385830998246092, 0.45735262500238605],\n",
              " [36, 0.02278212399687618, 0.43432459799805656],\n",
              " [38, 0.023282362999452744, 0.4477204009963316],\n",
              " [40, 0.023970782000105828, 0.4403681769981631],\n",
              " [42, 0.02653088299848605, 0.44733027899928857],\n",
              " [44, 0.023131197005568538, 0.44549847899907036],\n",
              " [46, 0.02546696599893039, 0.4501854420013842],\n",
              " [48, 0.023128059001464862, 0.4400438539960305],\n",
              " [50, 0.028667743994446937, 0.446683572998154],\n",
              " [52, 0.023577959997055586, 0.44431225000153063],\n",
              " [54, 0.026626771003066096, 0.44614771099440986],\n",
              " [56, 0.026631538006768096, 0.46265380999830086],\n",
              " [58, 0.026870066998526454, 0.4421012770035304],\n",
              " [60, 0.02718814000400016, 0.4460949639978935],\n",
              " [62, 0.028094658999179956, 0.43751182700361824],\n",
              " [64, 0.027878556000359822, 0.4460059850025573],\n",
              " [66, 0.17618948200106388, 3.057886532995326],\n",
              " [68, 0.17488708499877248, 3.0043148459953954],\n",
              " [70, 0.17716871100128628, 3.0307729649939574],\n",
              " [72, 0.17760776799696032, 2.999476056000276],\n",
              " [74, 0.18349782199948095, 3.026074449000589],\n",
              " [76, 0.18346200399537338, 3.014772044996789],\n",
              " [78, 0.17744930300250417, 3.025400411999726],\n",
              " [80, 0.17900422300590435, 3.0074446350045037],\n",
              " [82, 0.180088839995733, 3.020414364997123],\n",
              " [84, 0.1776669659957406, 3.0031301209965022],\n",
              " [86, 0.18075346099794842, 3.033902062998095],\n",
              " [88, 0.1861491810050211, 3.0024610309992568],\n",
              " [90, 0.18118287199467886, 3.103658833002555],\n",
              " [92, 0.18294700600381475, 3.041546312997525],\n",
              " [94, 0.18196270799671765, 3.0534845479996875],\n",
              " [96, 0.18268313099542866, 3.020151707001787],\n",
              " [98, 0.1890092050016392, 3.083986198005732],\n",
              " [100, 0.18887304099916946, 3.0473248609996517],\n",
              " [102, 0.1839488870027708, 3.028945060999831]]"
            ]
          },
          "metadata": {
            "tags": []
          },
          "execution_count": 75
        }
      ]
    },
    {
      "cell_type": "markdown",
      "metadata": {
        "id": "5zM4efKTLvkD"
      },
      "source": [
        "Galime matyti, kad bent iš pradžių, žymiai greitesnis yra paprastas algoritmas, bet paziurekime kaip tai vyksta su didesnemis matricomis"
      ]
    },
    {
      "cell_type": "code",
      "metadata": {
        "colab": {
          "base_uri": "https://localhost:8080/"
        },
        "id": "3rW7jnCDMCil",
        "outputId": "a9bcbe52-1f66-493f-df1e-9cc2c1a82fee"
      },
      "source": [
        "\r\n",
        "laiku_sarasas_did = []\r\n",
        "for n in range(2, 500, 25):\r\n",
        "  print(n)\r\n",
        "  pap, stras = testavimas(3, n)\r\n",
        "  laiku_sarasas_did.append([n, pap, stras])"
      ],
      "execution_count": 78,
      "outputs": [
        {
          "output_type": "stream",
          "text": [
            "2\n",
            "sugeneruota\n",
            "sukvadratinta\n",
            "strassen\n",
            "paprasta\n",
            "27\n",
            "sugeneruota\n",
            "sukvadratinta\n",
            "strassen\n",
            "paprasta\n",
            "52\n",
            "sugeneruota\n",
            "sukvadratinta\n",
            "strassen\n",
            "paprasta\n",
            "77\n",
            "sugeneruota\n",
            "sukvadratinta\n",
            "strassen\n",
            "paprasta\n",
            "102\n",
            "sugeneruota\n",
            "sukvadratinta\n",
            "strassen\n",
            "paprasta\n",
            "127\n",
            "sugeneruota\n",
            "sukvadratinta\n",
            "strassen\n",
            "paprasta\n",
            "152\n",
            "sugeneruota\n",
            "sukvadratinta\n",
            "strassen\n",
            "paprasta\n",
            "177\n",
            "sugeneruota\n",
            "sukvadratinta\n",
            "strassen\n",
            "paprasta\n",
            "202\n",
            "sugeneruota\n",
            "sukvadratinta\n",
            "strassen\n",
            "paprasta\n",
            "227\n",
            "sugeneruota\n",
            "sukvadratinta\n",
            "strassen\n",
            "paprasta\n",
            "252\n",
            "sugeneruota\n",
            "sukvadratinta\n",
            "strassen\n",
            "paprasta\n",
            "277\n",
            "sugeneruota\n",
            "sukvadratinta\n",
            "strassen\n",
            "paprasta\n",
            "302\n",
            "sugeneruota\n",
            "sukvadratinta\n",
            "strassen\n",
            "paprasta\n",
            "327\n",
            "sugeneruota\n",
            "sukvadratinta\n",
            "strassen\n",
            "paprasta\n",
            "352\n",
            "sugeneruota\n",
            "sukvadratinta\n",
            "strassen\n",
            "paprasta\n",
            "377\n",
            "sugeneruota\n",
            "sukvadratinta\n",
            "strassen\n",
            "paprasta\n",
            "402\n",
            "sugeneruota\n",
            "sukvadratinta\n",
            "strassen\n",
            "paprasta\n",
            "427\n",
            "sugeneruota\n",
            "sukvadratinta\n",
            "strassen\n",
            "paprasta\n",
            "452\n",
            "sugeneruota\n",
            "sukvadratinta\n",
            "strassen\n",
            "paprasta\n",
            "477\n",
            "sugeneruota\n",
            "sukvadratinta\n",
            "strassen\n",
            "paprasta\n"
          ],
          "name": "stdout"
        }
      ]
    },
    {
      "cell_type": "code",
      "metadata": {
        "colab": {
          "base_uri": "https://localhost:8080/"
        },
        "id": "25QzObyzOIPe",
        "outputId": "7d48a93f-cac6-42bd-bce4-ddba1776a194"
      },
      "source": [
        "laiku_sarasas_did"
      ],
      "execution_count": 79,
      "outputs": [
        {
          "output_type": "execute_result",
          "data": {
            "text/plain": [
              "[[2, 6.998001481406391e-06, 3.5178003599867225e-05],\n",
              " [27, 0.003272879999713041, 0.08742930099833757],\n",
              " [52, 0.02444242999627022, 0.4357755509990966],\n",
              " [77, 0.17806212900177343, 3.019750635001401],\n",
              " [102, 0.1834354090024135, 3.0617182640053215],\n",
              " [127, 0.19392748500104062, 3.00719651899999],\n",
              " [152, 1.4222000429945183, 21.124551068001892],\n",
              " [177, 1.4438155480020214, 21.299913800998183],\n",
              " [202, 1.4769002850007382, 21.859591241998714],\n",
              " [227, 1.5218053650023649, 21.45249916699686],\n",
              " [252, 1.5544464250051533, 21.28857662399969],\n",
              " [277, 11.990764055997715, 149.21179323199613],\n",
              " [302, 12.127963618004287, 150.70498701500037],\n",
              " [327, 12.209127866000927, 152.601053047998],\n",
              " [352, 12.330319950000558, 148.97569100200053],\n",
              " [377, 12.392276912003581, 149.31554357300047],\n",
              " [402, 12.586353275000874, 149.76429722499597],\n",
              " [427, 12.719585136997921, 152.19832926800154],\n",
              " [452, 12.894256384002801, 149.20552429399686],\n",
              " [477, 12.920140259004256, 149.81096600899764]]"
            ]
          },
          "metadata": {
            "tags": []
          },
          "execution_count": 79
        }
      ]
    }
  ]
}