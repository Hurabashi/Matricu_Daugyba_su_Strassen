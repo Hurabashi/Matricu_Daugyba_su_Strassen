{
  "nbformat": 4,
  "nbformat_minor": 0,
  "metadata": {
    "colab": {
      "name": "Matricu_daugyba_vykdymo.ipynb",
      "provenance": [],
      "collapsed_sections": [],
      "authorship_tag": "ABX9TyMDYcQ/bBtUGzVoOsMUNmXE",
      "include_colab_link": true
    },
    "kernelspec": {
      "name": "python3",
      "display_name": "Python 3"
    }
  },
  "cells": [
    {
      "cell_type": "markdown",
      "metadata": {
        "id": "view-in-github",
        "colab_type": "text"
      },
      "source": [
        "<a href=\"https://colab.research.google.com/github/Hurabashi/Matricu_Daugyba_su_Strassen/blob/main/Matricu_daugyba_vykdymo.ipynb\" target=\"_parent\"><img src=\"https://colab.research.google.com/assets/colab-badge.svg\" alt=\"Open In Colab\"/></a>"
      ]
    },
    {
      "cell_type": "markdown",
      "metadata": {
        "id": "StniShGLlf1U"
      },
      "source": [
        "Šiame projekte lyginsime paprastą matricų sandaugos algoritmą ir matricų sandaugos Strassen algoritmą.\r\n",
        "\r\n",
        "Pirma pradėsime nuo paprastos matricų sandaugos."
      ]
    },
    {
      "cell_type": "code",
      "metadata": {
        "id": "f3F1Hvo9xs-U"
      },
      "source": [
        "def matricu_sandauga_paprasta(matrica_1,matrica_2):\r\n",
        "  '''\r\n",
        "  Iprastu ir neoptimizuotu budu sudauginame dvi matricas, veikia jeigu sutampa\r\n",
        "  pirmosios plotis ir antrosios aukstis/ilgis.\r\n",
        "  '''\r\n",
        "  suma = 0\r\n",
        "  galutine_matrica = []\r\n",
        "  for eilute in matrica_1:\r\n",
        "    ilgis_eil = len(eilute)\r\n",
        "    ilgis_stulp = len(matrica_2[0])\r\n",
        "    galutines_matricos_eilute = []\r\n",
        "    for i in range(ilgis_stulp):\r\n",
        "      for j in range(ilgis_eil):\r\n",
        "        suma = suma + eilute[j] * matrica_2[j][i]\r\n",
        "      galutines_matricos_eilute.append(suma)\r\n",
        "      suma = 0 \r\n",
        "    galutine_matrica.append(galutines_matricos_eilute)\r\n",
        "  return galutine_matrica\r\n",
        "  \r\n",
        "  "
      ],
      "execution_count": null,
      "outputs": []
    },
    {
      "cell_type": "markdown",
      "metadata": {
        "id": "E3fmgJDSVXXN"
      },
      "source": [
        "Paruosiame matricas tinkamas Strassen algoritmui, jeigu jos nebūtų kvadratinės ir/arba 2^n. Mes pridedame nulių, kad jas tokiomis paversti.\r\n",
        "(Pastaba: užduoty naudojamos tik kvadratinės matricos, čia veiks su visomis daugintinomis matricomis)"
      ]
    },
    {
      "cell_type": "code",
      "metadata": {
        "id": "5f8WJGeQhseR"
      },
      "source": [
        "def matricu_kvadratinimas(matrica_1, matrica_2):\r\n",
        "  '''\r\n",
        "  Is abieju matricu randame didziausia dimensija, tada randame tai dimensijai\r\n",
        "  maziausia 2^n, ir tada abieju matricu dimensijas ispleciame iki jos, pridedant\r\n",
        "  nulius.\r\n",
        "  '''\r\n",
        "  #ieskome kokia didziausia dimensija\r\n",
        "  didziausia_dimensija = max(len(matrica_1[0]),len(matrica_1),\r\n",
        "                    len(matrica_2[0]),len(matrica_2))\r\n",
        "  #padarome didziausia dimensija i 2^n \r\n",
        "  while (didziausia_dimensija & (didziausia_dimensija - 1)) != 0:\r\n",
        "         didziausia_dimensija = didziausia_dimensija + 1\r\n",
        "\r\n",
        "  #paplatiname matricas iki didziausios dimensijos\r\n",
        "  #prailginame eilutes nuliais\r\n",
        "  while len(matrica_1[0]) != didziausia_dimensija:\r\n",
        "    for eilute in matrica_1:\r\n",
        "      eilute.append(0)\r\n",
        "  while len(matrica_2[0]) != didziausia_dimensija:\r\n",
        "    for eilute in matrica_2:\r\n",
        "      eilute.append(0)\r\n",
        "  \r\n",
        "  #sukuriam nuliu eilutes\r\n",
        "  nuliai = []\r\n",
        "  for i in range(didziausia_dimensija):\r\n",
        "    nuliai.append(0)\r\n",
        "  \r\n",
        "  #prideda nuliu eilutes\r\n",
        "  while len(matrica_1) != didziausia_dimensija:\r\n",
        "    matrica_1.append(nuliai)\r\n",
        "  while len(matrica_2) != didziausia_dimensija:\r\n",
        "    matrica_2.append(nuliai)\r\n",
        "\r\n",
        "\r\n",
        " "
      ],
      "execution_count": null,
      "outputs": []
    },
    {
      "cell_type": "markdown",
      "metadata": {
        "id": "vj4IdhY1mOIC"
      },
      "source": [
        "Toliau mes apsibrėžiame pagalbines funkcijas: matricų sudėtį, atimtį, išardymą į 4 mažesnias matricas, bei sujungimo atgal į vieną. Aišku tai reikalinga, nes mes nesinaudojame išorinėmis bibliotekomis kaip numpy, kurios jau turi apibrėžtą dalį operacijų bei palengvina kitas, bet su jomis algoritmų sudėtingumo lyginimas taptų gan beprasmis, nes jos parašytos kitomis programavimo kalbomis ir tai nebūtų savarankiškas darbas."
      ]
    },
    {
      "cell_type": "code",
      "metadata": {
        "id": "QPtyRitQo8af"
      },
      "source": [
        "def sudetis(x, y):\r\n",
        "  #tikrinama ar musu atveju tai matrica jei taip atlieka matricu sudetis\r\n",
        "  if isinstance(x, list):\r\n",
        "    c = []\r\n",
        "    plotis = len(x[0])\r\n",
        "    ilgis = len(x)\r\n",
        "    for i in range(ilgis):\r\n",
        "      c_eil = []\r\n",
        "      for j in range(0, plotis): \r\n",
        "        c_eil.append(x[i][j] + y[i][j])\r\n",
        "      c.append(c_eil)\r\n",
        "    return c\r\n",
        "  else:\r\n",
        "    return x + y\r\n",
        "\r\n",
        "def atimtis(x, y):\r\n",
        "  #tikrinama ar musu atveju tai matrica jei taip tai atliekama matricu atimtis\r\n",
        "  if isinstance(x, list):\r\n",
        "    c = []\r\n",
        "    plotis = len(x[0])\r\n",
        "    ilgis = len(x)\r\n",
        "    for i in range(ilgis):\r\n",
        "      c_eil = []\r\n",
        "      for j in range(0, plotis): \r\n",
        "        c_eil.append(x[i][j] - y[i][j])\r\n",
        "      c.append(c_eil)\r\n",
        "    return c\r\n",
        "  else:\r\n",
        "    return x - y\r\n",
        "\r\n",
        "def matricos_padalinimas(matrica):\r\n",
        "  #padalinime matrica i 4 matricas\r\n",
        "  dimensija = len(matrica)\r\n",
        "  dimensija_galutine = int(dimensija/2)\r\n",
        "\r\n",
        "  mat_00 = []\r\n",
        "  for eil in matrica[0 : dimensija_galutine]:\r\n",
        "    mat_00.append(eil[0 : dimensija_galutine])\r\n",
        "    \r\n",
        "  mat_01 = []\r\n",
        "  for eil in matrica[0 : dimensija_galutine]:\r\n",
        "    mat_01.append(eil[dimensija_galutine : dimensija])\r\n",
        "    \r\n",
        "  mat_10 = []\r\n",
        "  for eil in matrica[dimensija_galutine : dimensija]:\r\n",
        "    mat_10.append(eil[0 : dimensija_galutine])\r\n",
        "    \r\n",
        "  mat_11 = []\r\n",
        "  for eil in matrica[dimensija_galutine : dimensija]:\r\n",
        "    mat_11.append(eil[dimensija_galutine : dimensija])\r\n",
        "  return mat_00, mat_01, mat_10, mat_11\r\n",
        "  \r\n",
        "def matricos_suvienijimas(mat_00, mat_01, mat_10, mat_11):\r\n",
        "  #sujungiame 4 matricas i viena\r\n",
        "  if isinstance(mat_00, list):\r\n",
        "    c = []\r\n",
        "    dimensija = len(mat_00)\r\n",
        "    for i in range(dimensija):\r\n",
        "      c.append(mat_00[i] + mat_01[i])   \r\n",
        "    for i in range(dimensija):\r\n",
        "      c.append(mat_10[i] + mat_11[i])\r\n",
        "  else:\r\n",
        "    c = [[mat_00, mat_01],\r\n",
        "        [mat_10, mat_11]]\r\n",
        "    \r\n",
        "  return c"
      ],
      "execution_count": null,
      "outputs": []
    },
    {
      "cell_type": "markdown",
      "metadata": {
        "id": "ufhn60ajxOvi"
      },
      "source": [
        "Pagaliau galime apsibrėžti Strassen rekursinį matricų daugybos algoritmą."
      ]
    },
    {
      "cell_type": "code",
      "metadata": {
        "id": "1ZYjRY6vW-T_"
      },
      "source": [
        "def matricu_sandauga_strassen(x, y):\r\n",
        "  '''\r\n",
        "  Dauginame matricas Strassen rekurisniu algoritmu\r\n",
        "  '''\r\n",
        "\r\n",
        "  #sukuriame isejimo salyga pasiekus skaliarus\r\n",
        "  if len(x) == 1:\r\n",
        "    return x[0][0] * y[0][0]\r\n",
        "\r\n",
        "  #padaliname matricas i savus kvadratus\r\n",
        "  x_00, x_01, x_10, x_11 = matricos_padalinimas(x)\r\n",
        "  y_00, y_01, y_10, y_11 = matricos_padalinimas(y)\r\n",
        "\r\n",
        "  #sukuriame konstantas reikalingas Strassen algoritmui\r\n",
        "  m_1 = matricu_sandauga_strassen(atimtis(x_01, x_11), sudetis(y_10, y_11))\r\n",
        "  m_2 = matricu_sandauga_strassen(sudetis(x_00, x_11), sudetis(y_00, y_11))\r\n",
        "  m_3 = matricu_sandauga_strassen(atimtis(x_00, x_10), sudetis(y_00, y_01))\r\n",
        "  m_4 = matricu_sandauga_strassen(sudetis(x_00, x_01), y_11)\r\n",
        "  m_5 = matricu_sandauga_strassen(x_00, atimtis(y_01, y_11))\r\n",
        "  m_6 = matricu_sandauga_strassen(x_11, atimtis(y_10, y_00))\r\n",
        "  m_7 = matricu_sandauga_strassen(sudetis(x_10, x_11), y_00)\r\n",
        "\r\n",
        "  c_00 = sudetis(sudetis(m_1, m_2), atimtis(m_6, m_4))\r\n",
        "  c_01 = sudetis(m_4, m_5)\r\n",
        "  c_10 = sudetis(m_6, m_7)\r\n",
        "  c_11 = sudetis(atimtis(m_2, m_3), atimtis(m_5, m_7))\r\n",
        "\r\n",
        "  #sujungiame i didesne matrica\r\n",
        "  c = matricos_suvienijimas(c_00, c_01, c_10, c_11)\r\n",
        "  return c"
      ],
      "execution_count": null,
      "outputs": []
    },
    {
      "cell_type": "markdown",
      "metadata": {
        "id": "MePAdf8i82HX"
      },
      "source": [
        "Dabar sukurkime galimybę nuskaityti matricas iš failų ir atlikti daugybą. "
      ]
    },
    {
      "cell_type": "code",
      "metadata": {
        "id": "sTV3ibvkCR0O"
      },
      "source": [
        "failas = 'matricos.txt'\r\n",
        "with open(failas, \"r\") as failas:\r\n",
        "    FileasList = failas.readlines()\r\n",
        "\r\n",
        "matrica_did = []\r\n",
        "\r\n",
        "for i in range(len(FileasList)):\r\n",
        "  eilute = list(map(int, FileasList[i].split()))\r\n",
        "  matrica_did.append(eilute)\r\n",
        "  if eilute == []:\r\n",
        "    kitos_matricos_zyma = i\r\n",
        "  \r\n",
        "\r\n",
        "matrica_1 = matrica_did[0:kitos_matricos_zyma]\r\n",
        "matrica_2 = matrica_did[kitos_matricos_zyma+1:]\r\n",
        "\r\n",
        "print('Pasirinkite kokia daugyba norite atlikti Strassen ar paprasta su nuskaitytomis matricomis is failo matricos.txt')\r\n",
        "print('Jeigu Strassen, rasykite s simboli, jeigu paprasta - p simboli arba bet ka kita:')\r\n",
        "simbolis = input()\r\n",
        "\r\n",
        "if(simbolis == 's'):\r\n",
        "  matricu_kvadratinimas(matrica_1,matrica_2)\r\n",
        "  galutine_matrica = matricu_sandauga_strassen(matrica_1, matrica_2)\r\n",
        "else:\r\n",
        "  galutine_matrica = matricu_sandauga_paprasta(matrica_1, matrica_2)\r\n",
        "\r\n",
        "print('Atsakymas:')\r\n",
        "for eilute in galutine_matrica:\r\n",
        "  print(eilute)\r\n",
        "input()"
      ],
      "execution_count": null,
      "outputs": []
    }
  ]
}